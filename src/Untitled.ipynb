{
 "cells": [
  {
   "cell_type": "code",
   "execution_count": 1,
   "id": "49af45a4-2a71-433c-a4e9-2f55ecabf73d",
   "metadata": {},
   "outputs": [],
   "source": [
    "from models import MultiVAE, Multi_our_VAE, SimCLR_reco_model, BYOL_reco_model, MultiIWAE\n",
    "\n",
    "import argparse\n",
    "import random\n",
    "\n",
    "\n",
    "import numpy as np\n",
    "import torch\n",
    "from rezende_plot import run_rezende\n",
    "from training import train_model, train_met_model, train_simclr_model, train_byol_model, train_iw_model\n",
    "\n",
    "from args import get_args\n",
    "from data import Dataset\n",
    "\n",
    "from metrics import NDCG_binary_at_k_batch"
   ]
  },
  {
   "cell_type": "code",
   "execution_count": 2,
   "id": "df9e7a1b-65a7-4ab7-b707-6f490934c440",
   "metadata": {},
   "outputs": [],
   "source": [
    "class dotdict(dict):\n",
    "        \"\"\"dot.notation access to dictionary attributes\"\"\"\n",
    "        __getattr__ = dict.get\n",
    "        __setattr__ = dict.__setitem__\n",
    "        __delattr__ = dict.__delitem__\n"
   ]
  },
  {
   "cell_type": "code",
   "execution_count": 3,
   "id": "7277333a-4e54-47b2-819d-74ac03a863a6",
   "metadata": {},
   "outputs": [],
   "source": [
    "args = {}\n",
    "\n",
    "args = dotdict(args)\n",
    "args['data'] = 'foursquare' #'gowalla'\n",
    "\n",
    "args['model'] = 'BYOL_reco_model' #SimCLR_reco_model, MultiVAE, BYOL_reco_model\n",
    "\n",
    "args['n_epoches'] = 100\n",
    "\n",
    "args['n_epoches_dec'] = 50\n",
    "\n",
    "args['lrdec'] = 1e-3\n",
    "\n",
    "args['lrenc'] = 1e-3\n",
    "\n",
    "args['train_batch_size'] = 500\n",
    "\n",
    "args['val_batch_size'] = 200\n",
    "\n",
    "args['n_val_samples'] = 1\n",
    "\n",
    "args['annealing'] = True\n",
    "\n",
    "args.total_anneal_steps = 50\n",
    "\n",
    "args.anneal_cap = 1.\n",
    "\n",
    "args.print_info_ = 5\n",
    "\n",
    "args.metric = NDCG_binary_at_k_batch\n",
    "\n",
    "args.device = 'cpu'\n",
    "\n",
    "args.n_views = 2\n",
    "\n",
    "args.temperature = .07\n",
    "\n",
    "args.dropout_rate = 0.83\n",
    "\n",
    "args.criterion_dec = torch.nn.CrossEntropyLoss()\n",
    "\n",
    "args.m = 0.995"
   ]
  },
  {
   "cell_type": "code",
   "execution_count": 4,
   "id": "8b3f518b-7ab7-47f3-8ba9-ed81972f61ed",
   "metadata": {},
   "outputs": [
    {
     "name": "stdout",
     "output_type": "stream",
     "text": [
      "m  0.995\n",
      "Sequential(\n",
      "  (0): Linear(in_features=26150, out_features=600, bias=True)\n",
      "  (1): Tanh()\n",
      "  (2): Linear(in_features=600, out_features=100, bias=True)\n",
      ")\n",
      "Sequential(\n",
      "  (0): Linear(in_features=100, out_features=600, bias=True)\n",
      "  (1): Tanh()\n",
      "  (2): Linear(in_features=600, out_features=26150, bias=True)\n",
      ")\n",
      "Epoch  0 Loss  tensor(1.1419, grad_fn=<MeanBackward0>)\n",
      "Epoch  1 Loss  tensor(0.5391, grad_fn=<MeanBackward0>)\n",
      "Epoch  2 Loss  tensor(0.4183, grad_fn=<MeanBackward0>)\n",
      "Epoch  3 Loss  tensor(0.3206, grad_fn=<MeanBackward0>)\n",
      "Epoch  4 Loss  tensor(0.3125, grad_fn=<MeanBackward0>)\n",
      "Epoch  5 Loss  tensor(0.3187, grad_fn=<MeanBackward0>)\n",
      "Epoch  6 Loss  tensor(0.2716, grad_fn=<MeanBackward0>)\n",
      "Epoch  7 Loss  tensor(0.2892, grad_fn=<MeanBackward0>)\n",
      "Epoch  8 Loss  tensor(0.2906, grad_fn=<MeanBackward0>)\n",
      "Epoch  9 Loss  tensor(0.2435, grad_fn=<MeanBackward0>)\n",
      "Epoch  10 Loss  tensor(0.2553, grad_fn=<MeanBackward0>)\n",
      "Epoch  11 Loss  tensor(0.2507, grad_fn=<MeanBackward0>)\n",
      "Epoch  12 Loss  tensor(0.3110, grad_fn=<MeanBackward0>)\n",
      "Epoch  13 Loss  tensor(0.2748, grad_fn=<MeanBackward0>)\n",
      "Epoch  14 Loss  tensor(0.2870, grad_fn=<MeanBackward0>)\n",
      "Epoch  15 Loss  tensor(0.3246, grad_fn=<MeanBackward0>)\n",
      "Epoch  16 Loss  tensor(0.3164, grad_fn=<MeanBackward0>)\n",
      "Epoch  17 Loss  tensor(0.3349, grad_fn=<MeanBackward0>)\n",
      "Epoch  18 Loss  tensor(0.3281, grad_fn=<MeanBackward0>)\n",
      "Epoch  19 Loss  tensor(0.3532, grad_fn=<MeanBackward0>)\n",
      "Epoch  20 Loss  tensor(0.3881, grad_fn=<MeanBackward0>)\n",
      "Epoch  21 Loss  tensor(0.3632, grad_fn=<MeanBackward0>)\n",
      "Epoch  22 Loss  tensor(0.4086, grad_fn=<MeanBackward0>)\n",
      "Epoch  23 Loss  tensor(0.4263, grad_fn=<MeanBackward0>)\n",
      "Epoch  24 Loss  tensor(0.4264, grad_fn=<MeanBackward0>)\n",
      "Epoch  25 Loss  tensor(0.4767, grad_fn=<MeanBackward0>)\n",
      "Epoch  26 Loss  tensor(0.5132, grad_fn=<MeanBackward0>)\n",
      "Epoch  27 Loss  tensor(0.4658, grad_fn=<MeanBackward0>)\n",
      "Epoch  28 Loss  tensor(0.3969, grad_fn=<MeanBackward0>)\n",
      "Epoch  29 Loss  tensor(0.4518, grad_fn=<MeanBackward0>)\n",
      "Epoch  30 Loss  tensor(0.4226, grad_fn=<MeanBackward0>)\n",
      "Epoch  31 Loss  tensor(0.4425, grad_fn=<MeanBackward0>)\n",
      "Epoch  32 Loss  tensor(0.3720, grad_fn=<MeanBackward0>)\n",
      "Epoch  33 Loss  tensor(0.3667, grad_fn=<MeanBackward0>)\n",
      "Epoch  34 Loss  tensor(0.3659, grad_fn=<MeanBackward0>)\n",
      "Epoch  35 Loss  tensor(0.4497, grad_fn=<MeanBackward0>)\n",
      "Epoch  36 Loss  tensor(0.3980, grad_fn=<MeanBackward0>)\n",
      "Epoch  37 Loss  tensor(0.3579, grad_fn=<MeanBackward0>)\n",
      "Epoch  38 Loss  tensor(0.4148, grad_fn=<MeanBackward0>)\n",
      "Epoch  39 Loss  tensor(0.4003, grad_fn=<MeanBackward0>)\n",
      "Epoch  40 Loss  tensor(0.3972, grad_fn=<MeanBackward0>)\n",
      "Epoch  41 Loss  tensor(0.4381, grad_fn=<MeanBackward0>)\n",
      "Epoch  42 Loss  tensor(0.5109, grad_fn=<MeanBackward0>)\n",
      "Epoch  43 Loss  tensor(0.4989, grad_fn=<MeanBackward0>)\n",
      "Epoch  44 Loss  tensor(0.3841, grad_fn=<MeanBackward0>)\n",
      "Epoch  45 Loss  tensor(0.4344, grad_fn=<MeanBackward0>)\n",
      "Epoch  46 Loss  tensor(0.4839, grad_fn=<MeanBackward0>)\n",
      "Epoch  47 Loss  tensor(0.4687, grad_fn=<MeanBackward0>)\n",
      "Epoch  48 Loss  tensor(0.5034, grad_fn=<MeanBackward0>)\n",
      "Epoch  49 Loss  tensor(0.4913, grad_fn=<MeanBackward0>)\n",
      "Epoch  50 Loss  tensor(0.5065, grad_fn=<MeanBackward0>)\n",
      "Epoch  51 Loss  tensor(0.4827, grad_fn=<MeanBackward0>)\n",
      "Epoch  52 Loss  tensor(0.4860, grad_fn=<MeanBackward0>)\n",
      "Epoch  53 Loss  tensor(0.4083, grad_fn=<MeanBackward0>)\n",
      "Epoch  54 Loss  tensor(0.5251, grad_fn=<MeanBackward0>)\n",
      "Epoch  55 Loss  tensor(0.4885, grad_fn=<MeanBackward0>)\n",
      "Epoch  56 Loss  tensor(0.4261, grad_fn=<MeanBackward0>)\n",
      "Epoch  57 Loss  tensor(0.4272, grad_fn=<MeanBackward0>)\n",
      "Epoch  58 Loss  tensor(0.4173, grad_fn=<MeanBackward0>)\n",
      "Epoch  59 Loss  tensor(0.5123, grad_fn=<MeanBackward0>)\n",
      "Epoch  60 Loss  tensor(0.4866, grad_fn=<MeanBackward0>)\n",
      "Epoch  61 Loss  tensor(0.4549, grad_fn=<MeanBackward0>)\n",
      "Epoch  62 Loss  tensor(0.4249, grad_fn=<MeanBackward0>)\n",
      "Epoch  63 Loss  tensor(0.4491, grad_fn=<MeanBackward0>)\n",
      "Epoch  64 Loss  tensor(0.4503, grad_fn=<MeanBackward0>)\n",
      "Epoch  65 Loss  tensor(0.4852, grad_fn=<MeanBackward0>)\n",
      "Epoch  66 Loss  tensor(0.4700, grad_fn=<MeanBackward0>)\n",
      "Epoch  67 Loss  tensor(0.5049, grad_fn=<MeanBackward0>)\n",
      "Epoch  68 Loss  tensor(0.5065, grad_fn=<MeanBackward0>)\n",
      "Epoch  69 Loss  tensor(0.5258, grad_fn=<MeanBackward0>)\n",
      "Epoch  70 Loss  tensor(0.4089, grad_fn=<MeanBackward0>)\n",
      "Epoch  71 Loss  tensor(0.5195, grad_fn=<MeanBackward0>)\n",
      "Epoch  72 Loss  tensor(0.5198, grad_fn=<MeanBackward0>)\n",
      "Epoch  73 Loss  tensor(0.5940, grad_fn=<MeanBackward0>)\n",
      "Epoch  74 Loss  tensor(0.4944, grad_fn=<MeanBackward0>)\n",
      "Epoch  75 Loss  tensor(0.5607, grad_fn=<MeanBackward0>)\n",
      "Epoch  76 Loss  tensor(0.4408, grad_fn=<MeanBackward0>)\n",
      "Epoch  77 Loss  tensor(0.4727, grad_fn=<MeanBackward0>)\n",
      "Epoch  78 Loss  tensor(0.4774, grad_fn=<MeanBackward0>)\n",
      "Epoch  79 Loss  tensor(0.5256, grad_fn=<MeanBackward0>)\n",
      "Epoch  80 Loss  tensor(0.5200, grad_fn=<MeanBackward0>)\n",
      "Epoch  81 Loss  tensor(0.4853, grad_fn=<MeanBackward0>)\n",
      "Epoch  82 Loss  tensor(0.4833, grad_fn=<MeanBackward0>)\n",
      "Epoch  83 Loss  tensor(0.4599, grad_fn=<MeanBackward0>)\n",
      "Epoch  84 Loss  tensor(0.4507, grad_fn=<MeanBackward0>)\n",
      "Epoch  85 Loss  tensor(0.4410, grad_fn=<MeanBackward0>)\n",
      "Epoch  86 Loss  tensor(0.5310, grad_fn=<MeanBackward0>)\n",
      "Epoch  87 Loss  tensor(0.5304, grad_fn=<MeanBackward0>)\n",
      "Epoch  88 Loss  tensor(0.4698, grad_fn=<MeanBackward0>)\n",
      "Epoch  89 Loss  tensor(0.4281, grad_fn=<MeanBackward0>)\n",
      "Epoch  90 Loss  tensor(0.5397, grad_fn=<MeanBackward0>)\n",
      "Epoch  91 Loss  tensor(0.3869, grad_fn=<MeanBackward0>)\n",
      "Epoch  92 Loss  tensor(0.4972, grad_fn=<MeanBackward0>)\n",
      "Epoch  93 Loss  tensor(0.4451, grad_fn=<MeanBackward0>)\n",
      "Epoch  94 Loss  tensor(0.4964, grad_fn=<MeanBackward0>)\n",
      "Epoch  95 Loss  tensor(0.5737, grad_fn=<MeanBackward0>)\n",
      "Epoch  96 Loss  tensor(0.5452, grad_fn=<MeanBackward0>)\n",
      "Epoch  97 Loss  tensor(0.5550, grad_fn=<MeanBackward0>)\n",
      "Epoch  98 Loss  tensor(0.4845, grad_fn=<MeanBackward0>)\n",
      "Epoch  99 Loss  tensor(0.4264, grad_fn=<MeanBackward0>)\n"
     ]
    },
    {
     "name": "stderr",
     "output_type": "stream",
     "text": [
      "  0%|                                                    | 0/50 [00:00<?, ?it/s]/home/achille/Documents/GitCodes/reco_ssl/src/metrics.py:32: RuntimeWarning: invalid value encountered in true_divide\n",
      "  a = DCG / IDCG\n",
      "  2%|▊                                         | 1/50 [01:28<1:12:28, 88.75s/it]"
     ]
    },
    {
     "name": "stdout",
     "output_type": "stream",
     "text": [
      "Best NDCG: 0.05579635431476659\n",
      "Current NDCG: 0.05579635431476659\n"
     ]
    },
    {
     "name": "stderr",
     "output_type": "stream",
     "text": [
      " 12%|█████▎                                      | 6/50 [07:49<56:42, 77.34s/it]"
     ]
    },
    {
     "name": "stdout",
     "output_type": "stream",
     "text": [
      "Best NDCG: 0.05579635431476659\n",
      "Current NDCG: 0.04562352210452114\n"
     ]
    },
    {
     "name": "stderr",
     "output_type": "stream",
     "text": [
      " 22%|█████████▍                                 | 11/50 [15:01<59:56, 92.23s/it]"
     ]
    },
    {
     "name": "stdout",
     "output_type": "stream",
     "text": [
      "Best NDCG: 0.05579635431476659\n",
      "Current NDCG: 0.039342713557069094\n"
     ]
    },
    {
     "name": "stderr",
     "output_type": "stream",
     "text": [
      " 32%|█████████████▊                             | 16/50 [21:11<43:34, 76.90s/it]"
     ]
    },
    {
     "name": "stdout",
     "output_type": "stream",
     "text": [
      "Best NDCG: 0.05579635431476659\n",
      "Current NDCG: 0.034004012167728935\n"
     ]
    },
    {
     "name": "stderr",
     "output_type": "stream",
     "text": [
      " 42%|██████████████████                         | 21/50 [28:08<39:06, 80.90s/it]"
     ]
    },
    {
     "name": "stdout",
     "output_type": "stream",
     "text": [
      "Best NDCG: 0.05579635431476659\n",
      "Current NDCG: 0.032293619456802126\n"
     ]
    },
    {
     "name": "stderr",
     "output_type": "stream",
     "text": [
      " 52%|██████████████████████▎                    | 26/50 [34:59<33:16, 83.19s/it]"
     ]
    },
    {
     "name": "stdout",
     "output_type": "stream",
     "text": [
      "Best NDCG: 0.05579635431476659\n",
      "Current NDCG: 0.030592403571119534\n"
     ]
    },
    {
     "name": "stderr",
     "output_type": "stream",
     "text": [
      " 62%|██████████████████████████▋                | 31/50 [43:01<30:47, 97.22s/it]"
     ]
    },
    {
     "name": "stdout",
     "output_type": "stream",
     "text": [
      "Best NDCG: 0.05579635431476659\n",
      "Current NDCG: 0.02989462933154337\n"
     ]
    },
    {
     "name": "stderr",
     "output_type": "stream",
     "text": [
      " 72%|██████████████████████████████▉            | 36/50 [49:46<18:36, 79.78s/it]"
     ]
    },
    {
     "name": "stdout",
     "output_type": "stream",
     "text": [
      "Best NDCG: 0.05579635431476659\n",
      "Current NDCG: 0.029617887950769195\n"
     ]
    },
    {
     "name": "stderr",
     "output_type": "stream",
     "text": [
      " 78%|█████████████████████████████████▌         | 39/50 [56:14<15:51, 86.52s/it]\n"
     ]
    },
    {
     "ename": "KeyboardInterrupt",
     "evalue": "",
     "output_type": "error",
     "traceback": [
      "\u001b[0;31m---------------------------------------------------------------------------\u001b[0m",
      "\u001b[0;31mKeyboardInterrupt\u001b[0m                         Traceback (most recent call last)",
      "\u001b[0;32m/tmp/ipykernel_242798/4222272929.py\u001b[0m in \u001b[0;36m<module>\u001b[0;34m\u001b[0m\n\u001b[1;32m     16\u001b[0m \u001b[0;32melif\u001b[0m \u001b[0margs\u001b[0m\u001b[0;34m.\u001b[0m\u001b[0mmodel\u001b[0m \u001b[0;34m==\u001b[0m \u001b[0;34m'BYOL_reco_model'\u001b[0m\u001b[0;34m:\u001b[0m\u001b[0;34m\u001b[0m\u001b[0;34m\u001b[0m\u001b[0m\n\u001b[1;32m     17\u001b[0m     \u001b[0mmodel\u001b[0m \u001b[0;34m=\u001b[0m \u001b[0mBYOL_reco_model\u001b[0m\u001b[0;34m(\u001b[0m\u001b[0margs\u001b[0m\u001b[0;34m=\u001b[0m\u001b[0margs\u001b[0m\u001b[0;34m,\u001b[0m \u001b[0mp_dims\u001b[0m\u001b[0;34m=\u001b[0m\u001b[0mlayers\u001b[0m\u001b[0;34m)\u001b[0m\u001b[0;34m.\u001b[0m\u001b[0mto\u001b[0m\u001b[0;34m(\u001b[0m\u001b[0margs\u001b[0m\u001b[0;34m.\u001b[0m\u001b[0mdevice\u001b[0m\u001b[0;34m)\u001b[0m\u001b[0;34m\u001b[0m\u001b[0;34m\u001b[0m\u001b[0m\n\u001b[0;32m---> 18\u001b[0;31m     \u001b[0mmetric_values\u001b[0m \u001b[0;34m=\u001b[0m \u001b[0mtrain_byol_model\u001b[0m\u001b[0;34m(\u001b[0m\u001b[0mmodel\u001b[0m\u001b[0;34m,\u001b[0m \u001b[0mdataset\u001b[0m\u001b[0;34m,\u001b[0m \u001b[0margs\u001b[0m\u001b[0;34m)\u001b[0m\u001b[0;34m\u001b[0m\u001b[0;34m\u001b[0m\u001b[0m\n\u001b[0m",
      "\u001b[0;32m~/Documents/GitCodes/reco_ssl/src/training.py\u001b[0m in \u001b[0;36mtrain_byol_model\u001b[0;34m(model, dataset, args)\u001b[0m\n\u001b[1;32m     43\u001b[0m         \u001b[0;32mfor\u001b[0m \u001b[0mb_num\u001b[0m\u001b[0;34m,\u001b[0m \u001b[0mbatch\u001b[0m \u001b[0;32min\u001b[0m \u001b[0menumerate\u001b[0m\u001b[0;34m(\u001b[0m\u001b[0mdataset\u001b[0m\u001b[0;34m.\u001b[0m\u001b[0mnext_train_batch\u001b[0m\u001b[0;34m(\u001b[0m\u001b[0;34m)\u001b[0m\u001b[0;34m)\u001b[0m\u001b[0;34m:\u001b[0m\u001b[0;34m\u001b[0m\u001b[0;34m\u001b[0m\u001b[0m\n\u001b[1;32m     44\u001b[0m             \u001b[0mloss\u001b[0m\u001b[0;34m,\u001b[0m \u001b[0m_\u001b[0m \u001b[0;34m=\u001b[0m \u001b[0mmodel\u001b[0m\u001b[0;34m.\u001b[0m\u001b[0mstep_decoder\u001b[0m\u001b[0;34m(\u001b[0m\u001b[0mbatch\u001b[0m\u001b[0;34m)\u001b[0m\u001b[0;34m\u001b[0m\u001b[0;34m\u001b[0m\u001b[0m\n\u001b[0;32m---> 45\u001b[0;31m             \u001b[0mloss\u001b[0m\u001b[0;34m.\u001b[0m\u001b[0mbackward\u001b[0m\u001b[0;34m(\u001b[0m\u001b[0;34m)\u001b[0m\u001b[0;34m\u001b[0m\u001b[0;34m\u001b[0m\u001b[0m\n\u001b[0m\u001b[1;32m     46\u001b[0m             \u001b[0moptimizer_dec\u001b[0m\u001b[0;34m.\u001b[0m\u001b[0mstep\u001b[0m\u001b[0;34m(\u001b[0m\u001b[0;34m)\u001b[0m\u001b[0;34m\u001b[0m\u001b[0;34m\u001b[0m\u001b[0m\n\u001b[1;32m     47\u001b[0m             \u001b[0moptimizer_dec\u001b[0m\u001b[0;34m.\u001b[0m\u001b[0mzero_grad\u001b[0m\u001b[0;34m(\u001b[0m\u001b[0;34m)\u001b[0m\u001b[0;34m\u001b[0m\u001b[0;34m\u001b[0m\u001b[0m\n",
      "\u001b[0;32m~/.local/lib/python3.8/site-packages/torch/_tensor.py\u001b[0m in \u001b[0;36mbackward\u001b[0;34m(self, gradient, retain_graph, create_graph, inputs)\u001b[0m\n\u001b[1;32m    305\u001b[0m                 \u001b[0mcreate_graph\u001b[0m\u001b[0;34m=\u001b[0m\u001b[0mcreate_graph\u001b[0m\u001b[0;34m,\u001b[0m\u001b[0;34m\u001b[0m\u001b[0;34m\u001b[0m\u001b[0m\n\u001b[1;32m    306\u001b[0m                 inputs=inputs)\n\u001b[0;32m--> 307\u001b[0;31m         \u001b[0mtorch\u001b[0m\u001b[0;34m.\u001b[0m\u001b[0mautograd\u001b[0m\u001b[0;34m.\u001b[0m\u001b[0mbackward\u001b[0m\u001b[0;34m(\u001b[0m\u001b[0mself\u001b[0m\u001b[0;34m,\u001b[0m \u001b[0mgradient\u001b[0m\u001b[0;34m,\u001b[0m \u001b[0mretain_graph\u001b[0m\u001b[0;34m,\u001b[0m \u001b[0mcreate_graph\u001b[0m\u001b[0;34m,\u001b[0m \u001b[0minputs\u001b[0m\u001b[0;34m=\u001b[0m\u001b[0minputs\u001b[0m\u001b[0;34m)\u001b[0m\u001b[0;34m\u001b[0m\u001b[0;34m\u001b[0m\u001b[0m\n\u001b[0m\u001b[1;32m    308\u001b[0m \u001b[0;34m\u001b[0m\u001b[0m\n\u001b[1;32m    309\u001b[0m     \u001b[0;32mdef\u001b[0m \u001b[0mregister_hook\u001b[0m\u001b[0;34m(\u001b[0m\u001b[0mself\u001b[0m\u001b[0;34m,\u001b[0m \u001b[0mhook\u001b[0m\u001b[0;34m)\u001b[0m\u001b[0;34m:\u001b[0m\u001b[0;34m\u001b[0m\u001b[0;34m\u001b[0m\u001b[0m\n",
      "\u001b[0;32m~/.local/lib/python3.8/site-packages/torch/autograd/__init__.py\u001b[0m in \u001b[0;36mbackward\u001b[0;34m(tensors, grad_tensors, retain_graph, create_graph, grad_variables, inputs)\u001b[0m\n\u001b[1;32m    152\u001b[0m         \u001b[0mretain_graph\u001b[0m \u001b[0;34m=\u001b[0m \u001b[0mcreate_graph\u001b[0m\u001b[0;34m\u001b[0m\u001b[0;34m\u001b[0m\u001b[0m\n\u001b[1;32m    153\u001b[0m \u001b[0;34m\u001b[0m\u001b[0m\n\u001b[0;32m--> 154\u001b[0;31m     Variable._execution_engine.run_backward(\n\u001b[0m\u001b[1;32m    155\u001b[0m         \u001b[0mtensors\u001b[0m\u001b[0;34m,\u001b[0m \u001b[0mgrad_tensors_\u001b[0m\u001b[0;34m,\u001b[0m \u001b[0mretain_graph\u001b[0m\u001b[0;34m,\u001b[0m \u001b[0mcreate_graph\u001b[0m\u001b[0;34m,\u001b[0m \u001b[0minputs\u001b[0m\u001b[0;34m,\u001b[0m\u001b[0;34m\u001b[0m\u001b[0;34m\u001b[0m\u001b[0m\n\u001b[1;32m    156\u001b[0m         allow_unreachable=True, accumulate_grad=True)  # allow_unreachable flag\n",
      "\u001b[0;31mKeyboardInterrupt\u001b[0m: "
     ]
    }
   ],
   "source": [
    "dataset = Dataset(args)\n",
    "# pdb.set_trace()\n",
    "layers = [100, 600, dataset.n_items]\n",
    "args.z_dim = layers[0]\n",
    "args.l2_coeff = 0.\n",
    "# with torch.autograd.detect_anomaly():\n",
    "if args.model == 'MultiVAE':\n",
    "    model = MultiVAE(layers, args=args).to(args.device)\n",
    "    metric_values = train_model(model, dataset, args)\n",
    "elif args.model == 'Multi_our_VAE':\n",
    "    model = Multi_our_VAE(layers, args=args).to(args.device)\n",
    "    metric_values = train_met_model(model, dataset, args)\n",
    "elif args.model == 'SimCLR_reco_model':\n",
    "    model = SimCLR_reco_model(args=args, p_dims=layers).to(args.device)\n",
    "    metric_values = train_simclr_model(model, dataset, args)\n",
    "elif args.model == 'BYOL_reco_model':\n",
    "    model = BYOL_reco_model(args=args, p_dims=layers).to(args.device)\n",
    "    metric_values = train_byol_model(model, dataset, args)"
   ]
  },
  {
   "cell_type": "code",
   "execution_count": null,
   "id": "274320d4-c499-4441-9566-4ddd49830e2b",
   "metadata": {},
   "outputs": [],
   "source": [
    "args = {}\n",
    "\n",
    "args = dotdict(args)\n",
    "args['data'] = 'foursquare' #'gowalla'\n",
    "\n",
    "args['model'] = 'MultiVAE' #SimCLR_reco_model, MultiVAE\n",
    "\n",
    "args['n_epoches'] = 10\n",
    "\n",
    "args['n_epoches_dec'] = 50\n",
    "\n",
    "args['lrdec'] = 1e-3\n",
    "\n",
    "args['lrenc'] = 1e-3\n",
    "\n",
    "args['train_batch_size'] = 500\n",
    "\n",
    "args['val_batch_size'] = 200\n",
    "\n",
    "args['n_val_samples'] = 1\n",
    "\n",
    "args['annealing'] = True\n",
    "\n",
    "args.total_anneal_steps = 50\n",
    "\n",
    "args.anneal_cap = 1.\n",
    "\n",
    "args.print_info_ = 5\n",
    "\n",
    "args.metric = NDCG_binary_at_k_batch\n",
    "\n",
    "args.device = 'cpu'\n",
    "\n",
    "args.n_views = 2\n",
    "\n",
    "args.temperature = .07\n",
    "\n",
    "args.dropout_rate = 0.5"
   ]
  },
  {
   "cell_type": "code",
   "execution_count": 11,
   "id": "91bdcc54-dca4-4807-b366-7d37dc650e74",
   "metadata": {},
   "outputs": [
    {
     "name": "stdout",
     "output_type": "stream",
     "text": [
      "Sequential(\n",
      "  (0): Linear(in_features=26150, out_features=600, bias=True)\n",
      "  (1): BatchNorm1d(600, eps=1e-05, momentum=0.1, affine=True, track_running_stats=True)\n",
      "  (2): Tanh()\n",
      "  (3): Linear(in_features=600, out_features=200, bias=True)\n",
      ")\n",
      "Sequential(\n",
      "  (0): Linear(in_features=100, out_features=600, bias=True)\n",
      "  (1): BatchNorm1d(600, eps=1e-05, momentum=0.1, affine=True, track_running_stats=True)\n",
      "  (2): Tanh()\n",
      "  (3): Linear(in_features=600, out_features=26150, bias=True)\n",
      ")\n"
     ]
    },
    {
     "name": "stderr",
     "output_type": "stream",
     "text": [
      "  0%|                                                    | 0/10 [00:00<?, ?it/s]"
     ]
    },
    {
     "name": "stdout",
     "output_type": "stream",
     "text": [
      "735.738\n"
     ]
    },
    {
     "name": "stderr",
     "output_type": "stream",
     "text": [
      " 10%|████▍                                       | 1/10 [01:09<10:23, 69.24s/it]"
     ]
    },
    {
     "name": "stdout",
     "output_type": "stream",
     "text": [
      "Best NDCG: 0.10272639765167384\n",
      "Current NDCG: 0.10272639765167384\n"
     ]
    },
    {
     "name": "stderr",
     "output_type": "stream",
     "text": [
      " 50%|█████████████████████▌                     | 5/10 [12:09<14:00, 168.02s/it]"
     ]
    },
    {
     "name": "stdout",
     "output_type": "stream",
     "text": [
      "444.64456\n"
     ]
    },
    {
     "name": "stderr",
     "output_type": "stream",
     "text": [
      " 60%|█████████████████████████▊                 | 6/10 [13:18<08:56, 134.23s/it]"
     ]
    },
    {
     "name": "stdout",
     "output_type": "stream",
     "text": [
      "Best NDCG: 0.1260908413990958\n",
      "Current NDCG: 0.1260908413990958\n"
     ]
    },
    {
     "name": "stderr",
     "output_type": "stream",
     "text": [
      "100%|██████████████████████████████████████████| 10/10 [18:22<00:00, 110.26s/it]\n"
     ]
    }
   ],
   "source": [
    "dataset = Dataset(args)\n",
    "# pdb.set_trace()\n",
    "layers = [100, 600, dataset.n_items]\n",
    "args.z_dim = layers[0]\n",
    "args.l2_coeff = 0.\n",
    "# with torch.autograd.detect_anomaly():\n",
    "if args.model == 'MultiVAE':\n",
    "    model = MultiVAE(layers, args=args).to(args.device)\n",
    "    metric_values_vae = train_model(model, dataset, args)\n",
    "elif args.model == 'Multi_our_VAE':\n",
    "    model = Multi_our_VAE(layers, args=args).to(args.device)\n",
    "    metric_values = train_met_model(model, dataset, args)\n",
    "elif args.model == 'SimCLR_reco_model':\n",
    "    model = SimCLR_reco_model(args=args, p_dims=layers).to(args.device)\n",
    "    metric_values = train_simclr_model(model, dataset, args)\n",
    "elif args.model == 'BYOL_reco_model':\n",
    "    model = BYOL_reco_model(args=args, p_dims=layers).to(args.device)\n",
    "    metric_values = train_byol_model(model, dataset, args)    "
   ]
  },
  {
   "cell_type": "code",
   "execution_count": null,
   "id": "409d315b-6727-4c65-957d-2f534377ab9c",
   "metadata": {},
   "outputs": [],
   "source": []
  },
  {
   "cell_type": "code",
   "execution_count": 7,
   "id": "e293acae-90c0-4535-9b6e-c623bca5e53b",
   "metadata": {},
   "outputs": [],
   "source": [
    "args = {}\n",
    "\n",
    "args = dotdict(args)\n",
    "args['data'] = 'foursquare' #'gowalla'\n",
    "\n",
    "args['model'] = 'SimCLR_reco_model' #SimCLR_reco_model, MultiVAE\n",
    "\n",
    "args['n_epoches'] = 100\n",
    "\n",
    "args['n_epoches_dec'] = 50\n",
    "\n",
    "args['lrdec'] = 1e-3\n",
    "\n",
    "args['lrenc'] = 1e-3\n",
    "\n",
    "args['train_batch_size'] = 500\n",
    "\n",
    "args['val_batch_size'] = 200\n",
    "\n",
    "args['n_val_samples'] = 1\n",
    "\n",
    "args['annealing'] = True\n",
    "\n",
    "args.total_anneal_steps = 50\n",
    "\n",
    "args.anneal_cap = 1.\n",
    "\n",
    "args.print_info_ = 5\n",
    "\n",
    "args.metric = NDCG_binary_at_k_batch\n",
    "\n",
    "args.device = 'cpu'\n",
    "\n",
    "args.n_views = 2\n",
    "\n",
    "args.temperature = .07\n",
    "\n",
    "args.dropout_rate = 0.8\n",
    "\n",
    "args.criterion_dec = torch.nn.CrossEntropyLoss()\n"
   ]
  },
  {
   "cell_type": "code",
   "execution_count": 8,
   "id": "2510e44b-f089-4c38-af07-7eb108e2402d",
   "metadata": {},
   "outputs": [
    {
     "name": "stdout",
     "output_type": "stream",
     "text": [
      "Sequential(\n",
      "  (0): Linear(in_features=26150, out_features=600, bias=True)\n",
      "  (1): BatchNorm1d(600, eps=1e-05, momentum=0.1, affine=True, track_running_stats=True)\n",
      "  (2): Tanh()\n",
      "  (3): Linear(in_features=600, out_features=100, bias=True)\n",
      ")\n",
      "Sequential(\n",
      "  (0): Linear(in_features=100, out_features=600, bias=True)\n",
      "  (1): BatchNorm1d(600, eps=1e-05, momentum=0.1, affine=True, track_running_stats=True)\n",
      "  (2): Tanh()\n",
      "  (3): Linear(in_features=600, out_features=26150, bias=True)\n",
      ")\n"
     ]
    },
    {
     "name": "stderr",
     "output_type": "stream",
     "text": [
      "100%|██████████████████████████████████████| 100/100 [3:45:08<00:00, 135.09s/it]\n",
      "  2%|▊                                        | 1/50 [02:51<2:20:21, 171.86s/it]"
     ]
    },
    {
     "name": "stdout",
     "output_type": "stream",
     "text": [
      "Best NDCG: 0.07047661556462863\n",
      "Current NDCG: 0.07047661556462863\n"
     ]
    },
    {
     "name": "stderr",
     "output_type": "stream",
     "text": [
      " 12%|████▉                                    | 6/50 [15:38<1:51:38, 152.25s/it]"
     ]
    },
    {
     "name": "stdout",
     "output_type": "stream",
     "text": [
      "Best NDCG: 0.07047661556462863\n",
      "Current NDCG: 0.05050823560355729\n"
     ]
    },
    {
     "name": "stderr",
     "output_type": "stream",
     "text": [
      " 22%|████████▊                               | 11/50 [29:37<1:52:03, 172.40s/it]"
     ]
    },
    {
     "name": "stdout",
     "output_type": "stream",
     "text": [
      "Best NDCG: 0.07047661556462863\n",
      "Current NDCG: 0.04641691555152845\n"
     ]
    },
    {
     "name": "stderr",
     "output_type": "stream",
     "text": [
      " 32%|████████████▊                           | 16/50 [43:27<1:35:12, 168.01s/it]"
     ]
    },
    {
     "name": "stdout",
     "output_type": "stream",
     "text": [
      "Best NDCG: 0.07047661556462863\n",
      "Current NDCG: 0.04478536342856092\n"
     ]
    },
    {
     "name": "stderr",
     "output_type": "stream",
     "text": [
      " 42%|████████████████▊                       | 21/50 [57:11<1:19:31, 164.55s/it]"
     ]
    },
    {
     "name": "stdout",
     "output_type": "stream",
     "text": [
      "Best NDCG: 0.07047661556462863\n",
      "Current NDCG: 0.04410676896948592\n"
     ]
    },
    {
     "name": "stderr",
     "output_type": "stream",
     "text": [
      " 52%|███████████████████▊                  | 26/50 [1:11:26<1:08:53, 172.22s/it]"
     ]
    },
    {
     "name": "stdout",
     "output_type": "stream",
     "text": [
      "Best NDCG: 0.07047661556462863\n",
      "Current NDCG: 0.04294644523450297\n"
     ]
    },
    {
     "name": "stderr",
     "output_type": "stream",
     "text": [
      " 62%|████████████████████████▊               | 31/50 [1:25:55<55:37, 175.65s/it]"
     ]
    },
    {
     "name": "stdout",
     "output_type": "stream",
     "text": [
      "Best NDCG: 0.07047661556462863\n",
      "Current NDCG: 0.041277232188011895\n"
     ]
    },
    {
     "name": "stderr",
     "output_type": "stream",
     "text": [
      " 72%|████████████████████████████▊           | 36/50 [1:39:14<37:57, 162.69s/it]"
     ]
    },
    {
     "name": "stdout",
     "output_type": "stream",
     "text": [
      "Best NDCG: 0.07047661556462863\n",
      "Current NDCG: 0.04132753908194365\n"
     ]
    },
    {
     "name": "stderr",
     "output_type": "stream",
     "text": [
      " 82%|████████████████████████████████▊       | 41/50 [1:52:14<23:04, 153.86s/it]"
     ]
    },
    {
     "name": "stdout",
     "output_type": "stream",
     "text": [
      "Best NDCG: 0.07047661556462863\n",
      "Current NDCG: 0.040817607695261035\n"
     ]
    },
    {
     "name": "stderr",
     "output_type": "stream",
     "text": [
      " 92%|████████████████████████████████████▊   | 46/50 [2:05:58<11:08, 167.23s/it]"
     ]
    },
    {
     "name": "stdout",
     "output_type": "stream",
     "text": [
      "Best NDCG: 0.07047661556462863\n",
      "Current NDCG: 0.04022027607988205\n"
     ]
    },
    {
     "name": "stderr",
     "output_type": "stream",
     "text": [
      "100%|████████████████████████████████████████| 50/50 [2:15:45<00:00, 162.91s/it]\n"
     ]
    }
   ],
   "source": [
    "\n",
    "\n",
    "dataset = Dataset(args)\n",
    "# pdb.set_trace()\n",
    "layers = [100, 600, dataset.n_items]\n",
    "args.z_dim = layers[0]\n",
    "args.l2_coeff = 0.\n",
    "# with torch.autograd.detect_anomaly():\n",
    "if args.model == 'MultiVAE':\n",
    "    model = MultiVAE(layers, args=args).to(args.device)\n",
    "    metric_values = train_model(model, dataset, args)\n",
    "elif args.model == 'Multi_our_VAE':\n",
    "    model = Multi_our_VAE(layers, args=args).to(args.device)\n",
    "    metric_values = train_met_model(model, dataset, args)\n",
    "elif args.model == 'SimCLR_reco_model':\n",
    "    model = SimCLR_reco_model(args=args, p_dims=layers).to(args.device)\n",
    "    metric_values = train_simclr_model(model, dataset, args)"
   ]
  },
  {
   "cell_type": "code",
   "execution_count": null,
   "id": "8ef0e523-d4b9-424a-aa09-9476f6221601",
   "metadata": {},
   "outputs": [],
   "source": [
    "args.dropout_rate = 0.8\n",
    "\n",
    "args.temperature = .3\n",
    "\n",
    "dataset = Dataset(args)\n",
    "# pdb.set_trace()\n",
    "layers = [100, 600, dataset.n_items]\n",
    "args.z_dim = layers[0]\n",
    "args.l2_coeff = 0.\n",
    "# with torch.autograd.detect_anomaly():\n",
    "if args.model == 'MultiVAE':\n",
    "    model = MultiVAE(layers, args=args).to(args.device)\n",
    "    metric_values = train_model(model, dataset, args)\n",
    "elif args.model == 'Multi_our_VAE':\n",
    "    model = Multi_our_VAE(layers, args=args).to(args.device)\n",
    "    metric_values = train_met_model(model, dataset, args)\n",
    "elif args.model == 'SimCLR_reco_model':\n",
    "    model = SimCLR_reco_model(args=args, p_dims=layers).to(args.device)\n",
    "    metric_values = train_simclr_model(model, dataset, args)"
   ]
  },
  {
   "cell_type": "code",
   "execution_count": 5,
   "id": "f234965d-bf60-4d75-98ed-30c9b4946477",
   "metadata": {},
   "outputs": [
    {
     "name": "stdout",
     "output_type": "stream",
     "text": [
      "Sequential(\n",
      "  (0): Linear(in_features=26150, out_features=600, bias=True)\n",
      "  (1): BatchNorm1d(600, eps=1e-05, momentum=0.1, affine=True, track_running_stats=True)\n",
      "  (2): Tanh()\n",
      "  (3): Linear(in_features=600, out_features=200, bias=True)\n",
      ")\n",
      "Sequential(\n",
      "  (0): Linear(in_features=100, out_features=600, bias=True)\n",
      "  (1): Tanh()\n",
      "  (2): Linear(in_features=600, out_features=26150, bias=True)\n",
      ")\n"
     ]
    },
    {
     "name": "stderr",
     "output_type": "stream",
     "text": [
      "  0%|                                                    | 0/30 [00:00<?, ?it/s]"
     ]
    },
    {
     "name": "stdout",
     "output_type": "stream",
     "text": [
      "798.1185\n"
     ]
    },
    {
     "name": "stderr",
     "output_type": "stream",
     "text": [
      "  3%|█▎                                       | 1/30 [03:15<1:34:22, 195.27s/it]"
     ]
    },
    {
     "name": "stdout",
     "output_type": "stream",
     "text": [
      "Best NDCG: 0.1053986799555609\n",
      "Current NDCG: 0.1053986799555609\n",
      "520.08167\n"
     ]
    },
    {
     "name": "stderr",
     "output_type": "stream",
     "text": [
      "  7%|██▋                                      | 2/30 [15:41<4:02:29, 519.62s/it]"
     ]
    },
    {
     "name": "stdout",
     "output_type": "stream",
     "text": [
      "Best NDCG: 0.11451671557867234\n",
      "Current NDCG: 0.11451671557867234\n",
      "489.96344\n"
     ]
    },
    {
     "name": "stderr",
     "output_type": "stream",
     "text": [
      " 10%|████                                     | 3/30 [30:50<5:13:47, 697.32s/it]"
     ]
    },
    {
     "name": "stdout",
     "output_type": "stream",
     "text": [
      "Best NDCG: 0.1208783695448789\n",
      "Current NDCG: 0.1208783695448789\n",
      "419.47382\n"
     ]
    },
    {
     "name": "stderr",
     "output_type": "stream",
     "text": [
      " 13%|█████▍                                   | 4/30 [48:19<6:02:19, 836.15s/it]"
     ]
    },
    {
     "name": "stdout",
     "output_type": "stream",
     "text": [
      "Best NDCG: 0.12092918571175404\n",
      "Current NDCG: 0.12092918571175404\n",
      "406.71036\n"
     ]
    },
    {
     "name": "stderr",
     "output_type": "stream",
     "text": [
      " 17%|██████▌                                | 5/30 [1:07:19<6:33:57, 945.49s/it]"
     ]
    },
    {
     "name": "stdout",
     "output_type": "stream",
     "text": [
      "Best NDCG: 0.12354118893390693\n",
      "Current NDCG: 0.12354118893390693\n",
      "382.0252\n"
     ]
    },
    {
     "name": "stderr",
     "output_type": "stream",
     "text": [
      " 20%|███████▌                              | 6/30 [1:26:44<6:48:04, 1020.18s/it]"
     ]
    },
    {
     "name": "stdout",
     "output_type": "stream",
     "text": [
      "Best NDCG: 0.12514117752836385\n",
      "Current NDCG: 0.12514117752836385\n",
      "381.85858\n"
     ]
    },
    {
     "name": "stderr",
     "output_type": "stream",
     "text": [
      " 23%|████████▊                             | 7/30 [1:44:12<6:34:38, 1029.50s/it]"
     ]
    },
    {
     "name": "stdout",
     "output_type": "stream",
     "text": [
      "Best NDCG: 0.12573650063167147\n",
      "Current NDCG: 0.12573650063167147\n",
      "391.74255\n"
     ]
    },
    {
     "name": "stderr",
     "output_type": "stream",
     "text": [
      " 27%|██████████▏                           | 8/30 [2:03:09<6:30:02, 1063.74s/it]"
     ]
    },
    {
     "name": "stdout",
     "output_type": "stream",
     "text": [
      "Best NDCG: 0.12573650063167147\n",
      "Current NDCG: 0.1251375622352552\n",
      "361.8021\n"
     ]
    },
    {
     "name": "stderr",
     "output_type": "stream",
     "text": [
      " 30%|███████████▍                          | 9/30 [2:21:00<6:13:02, 1065.84s/it]"
     ]
    },
    {
     "name": "stdout",
     "output_type": "stream",
     "text": [
      "Best NDCG: 0.12813325016391905\n",
      "Current NDCG: 0.12813325016391905\n",
      "363.5035\n"
     ]
    },
    {
     "name": "stderr",
     "output_type": "stream",
     "text": [
      " 33%|████████████▎                        | 10/30 [2:38:49<5:55:35, 1066.78s/it]"
     ]
    },
    {
     "name": "stdout",
     "output_type": "stream",
     "text": [
      "Best NDCG: 0.12813325016391905\n",
      "Current NDCG: 0.12642947344459418\n",
      "353.59424\n"
     ]
    },
    {
     "name": "stderr",
     "output_type": "stream",
     "text": [
      " 37%|█████████████▉                        | 11/30 [2:42:31<4:15:59, 808.41s/it]"
     ]
    },
    {
     "name": "stdout",
     "output_type": "stream",
     "text": [
      "Best NDCG: 0.12813325016391905\n",
      "Current NDCG: 0.12756993068045852\n",
      "361.90265\n"
     ]
    },
    {
     "name": "stderr",
     "output_type": "stream",
     "text": [
      " 40%|███████████████▏                      | 12/30 [2:47:39<3:16:50, 656.11s/it]"
     ]
    },
    {
     "name": "stdout",
     "output_type": "stream",
     "text": [
      "Best NDCG: 0.1292411469749425\n",
      "Current NDCG: 0.1292411469749425\n",
      "351.95663\n"
     ]
    },
    {
     "name": "stderr",
     "output_type": "stream",
     "text": [
      " 43%|████████████████▍                     | 13/30 [2:54:25<2:44:25, 580.35s/it]"
     ]
    },
    {
     "name": "stdout",
     "output_type": "stream",
     "text": [
      "Best NDCG: 0.1292411469749425\n",
      "Current NDCG: 0.12808561503647808\n",
      "346.6823\n"
     ]
    },
    {
     "name": "stderr",
     "output_type": "stream",
     "text": [
      " 47%|█████████████████▋                    | 14/30 [3:01:06<2:20:18, 526.17s/it]"
     ]
    },
    {
     "name": "stdout",
     "output_type": "stream",
     "text": [
      "Best NDCG: 0.12954517608868757\n",
      "Current NDCG: 0.12954517608868757\n",
      "352.71497\n"
     ]
    },
    {
     "name": "stderr",
     "output_type": "stream",
     "text": [
      " 50%|███████████████████                   | 15/30 [3:07:25<2:00:28, 481.89s/it]"
     ]
    },
    {
     "name": "stdout",
     "output_type": "stream",
     "text": [
      "Best NDCG: 0.12968366961245542\n",
      "Current NDCG: 0.12968366961245542\n",
      "352.27283\n"
     ]
    },
    {
     "name": "stderr",
     "output_type": "stream",
     "text": [
      " 53%|████████████████████▎                 | 16/30 [3:13:25<1:43:52, 445.18s/it]"
     ]
    },
    {
     "name": "stdout",
     "output_type": "stream",
     "text": [
      "Best NDCG: 0.13048515220355833\n",
      "Current NDCG: 0.13048515220355833\n",
      "364.41354\n"
     ]
    },
    {
     "name": "stderr",
     "output_type": "stream",
     "text": [
      " 57%|█████████████████████▌                | 17/30 [3:20:22<1:34:37, 436.71s/it]"
     ]
    },
    {
     "name": "stdout",
     "output_type": "stream",
     "text": [
      "Best NDCG: 0.13048515220355833\n",
      "Current NDCG: 0.1303594369770397\n",
      "352.62897\n"
     ]
    },
    {
     "name": "stderr",
     "output_type": "stream",
     "text": [
      " 60%|██████████████████████▊               | 18/30 [3:27:35<1:27:05, 435.49s/it]"
     ]
    },
    {
     "name": "stdout",
     "output_type": "stream",
     "text": [
      "Best NDCG: 0.1306598151270638\n",
      "Current NDCG: 0.1306598151270638\n",
      "352.10236\n"
     ]
    },
    {
     "name": "stderr",
     "output_type": "stream",
     "text": [
      " 63%|████████████████████████              | 19/30 [3:36:11<1:24:15, 459.64s/it]"
     ]
    },
    {
     "name": "stdout",
     "output_type": "stream",
     "text": [
      "Best NDCG: 0.1306598151270638\n",
      "Current NDCG: 0.1295555625843579\n",
      "348.5025\n"
     ]
    },
    {
     "name": "stderr",
     "output_type": "stream",
     "text": [
      " 67%|█████████████████████████▎            | 20/30 [3:44:02<1:17:11, 463.19s/it]"
     ]
    },
    {
     "name": "stdout",
     "output_type": "stream",
     "text": [
      "Best NDCG: 0.1306598151270638\n",
      "Current NDCG: 0.1298450269605621\n",
      "354.4834\n"
     ]
    },
    {
     "name": "stderr",
     "output_type": "stream",
     "text": [
      " 70%|██████████████████████████▌           | 21/30 [3:49:56<1:04:33, 430.37s/it]"
     ]
    },
    {
     "name": "stdout",
     "output_type": "stream",
     "text": [
      "Best NDCG: 0.1306598151270638\n",
      "Current NDCG: 0.126423044896747\n",
      "351.70264\n"
     ]
    },
    {
     "name": "stderr",
     "output_type": "stream",
     "text": [
      " 73%|███████████████████████████▏         | 22/30 [5:00:34<3:29:43, 1572.97s/it]"
     ]
    },
    {
     "name": "stdout",
     "output_type": "stream",
     "text": [
      "Best NDCG: 0.1306598151270638\n",
      "Current NDCG: 0.12983853948265373\n",
      "331.6673\n"
     ]
    },
    {
     "name": "stderr",
     "output_type": "stream",
     "text": [
      " 77%|████████████████████████████▎        | 23/30 [5:08:40<2:25:27, 1246.79s/it]"
     ]
    },
    {
     "name": "stdout",
     "output_type": "stream",
     "text": [
      "Best NDCG: 0.1306598151270638\n",
      "Current NDCG: 0.12785614777300172\n",
      "351.9962\n"
     ]
    },
    {
     "name": "stderr",
     "output_type": "stream",
     "text": [
      " 80%|█████████████████████████████▌       | 24/30 [9:15:43<8:52:03, 5320.53s/it]"
     ]
    },
    {
     "name": "stdout",
     "output_type": "stream",
     "text": [
      "Best NDCG: 0.1306598151270638\n",
      "Current NDCG: 0.12966411085632326\n",
      "333.40753\n"
     ]
    },
    {
     "name": "stderr",
     "output_type": "stream",
     "text": [
      " 83%|██████████████████████████████▊      | 25/30 [9:40:34<5:47:37, 4171.50s/it]"
     ]
    },
    {
     "name": "stdout",
     "output_type": "stream",
     "text": [
      "Best NDCG: 0.1306598151270638\n",
      "Current NDCG: 0.1297597855438353\n",
      "340.74707\n"
     ]
    },
    {
     "name": "stderr",
     "output_type": "stream",
     "text": [
      " 87%|███████████████████████████████▏    | 26/30 [10:06:12<3:45:24, 3381.24s/it]"
     ]
    },
    {
     "name": "stdout",
     "output_type": "stream",
     "text": [
      "Best NDCG: 0.1306598151270638\n",
      "Current NDCG: 0.12817951287931767\n",
      "315.7951\n"
     ]
    },
    {
     "name": "stderr",
     "output_type": "stream",
     "text": [
      " 90%|████████████████████████████████▍   | 27/30 [10:37:05<2:26:08, 2922.75s/it]"
     ]
    },
    {
     "name": "stdout",
     "output_type": "stream",
     "text": [
      "Best NDCG: 0.1306598151270638\n",
      "Current NDCG: 0.12833158754620705\n",
      "320.4267\n"
     ]
    },
    {
     "name": "stderr",
     "output_type": "stream",
     "text": [
      " 93%|█████████████████████████████████▌  | 28/30 [16:46:22<4:49:46, 8693.38s/it]"
     ]
    },
    {
     "name": "stdout",
     "output_type": "stream",
     "text": [
      "Best NDCG: 0.1306598151270638\n",
      "Current NDCG: 0.12735941444427382\n",
      "324.10934\n"
     ]
    },
    {
     "name": "stderr",
     "output_type": "stream",
     "text": [
      " 97%|██████████████████████████████████▊ | 29/30 [16:50:57<1:42:47, 6167.81s/it]"
     ]
    },
    {
     "name": "stdout",
     "output_type": "stream",
     "text": [
      "Best NDCG: 0.1306598151270638\n",
      "Current NDCG: 0.1270903460911925\n",
      "334.04547\n"
     ]
    },
    {
     "name": "stderr",
     "output_type": "stream",
     "text": [
      "100%|██████████████████████████████████████| 30/30 [17:00:57<00:00, 2041.91s/it]"
     ]
    },
    {
     "name": "stdout",
     "output_type": "stream",
     "text": [
      "Best NDCG: 0.1306598151270638\n",
      "Current NDCG: 0.12846159251968706\n"
     ]
    },
    {
     "name": "stderr",
     "output_type": "stream",
     "text": [
      "\n"
     ]
    }
   ],
   "source": [
    "args = {}\n",
    "\n",
    "args = dotdict(args)\n",
    "args['data'] = 'foursquare' #'gowalla'\n",
    "\n",
    "args['model'] = 'MultiIWAE' #SimCLR_reco_model, MultiVAE\n",
    "\n",
    "args['n_epoches'] = 30\n",
    "\n",
    "args['n_epoches_dec'] = 50\n",
    "\n",
    "args['lrdec'] = 1e-3\n",
    "\n",
    "args['lrenc'] = 1e-3\n",
    "\n",
    "args['train_batch_size'] = 500\n",
    "\n",
    "args['val_batch_size'] = 200\n",
    "\n",
    "args['n_val_samples'] = 1\n",
    "\n",
    "args['annealing'] = True\n",
    "\n",
    "args.total_anneal_steps = 50\n",
    "\n",
    "args.anneal_cap = 1.\n",
    "\n",
    "args.print_info_ = 1\n",
    "\n",
    "args.metric = NDCG_binary_at_k_batch\n",
    "\n",
    "args.device = 'cpu'\n",
    "\n",
    "args.n_views = 2\n",
    "\n",
    "args.temperature = .07\n",
    "\n",
    "args.dropout_rate = 0.8\n",
    "\n",
    "args.criterion_dec = torch.nn.CrossEntropyLoss()\n",
    "\n",
    "args.K = 7\n",
    "\n",
    "args.temperature = .1\n",
    "\n",
    "dataset = Dataset(args)\n",
    "# pdb.set_trace()\n",
    "layers = [100, 600, dataset.n_items]\n",
    "args.z_dim = layers[0]\n",
    "args.l2_coeff = 0.\n",
    "# with torch.autograd.detect_anomaly():\n",
    "if args.model == 'MultiVAE':\n",
    "    model = MultiVAE(layers, args=args).to(args.device)\n",
    "    metric_values = train_model(model, dataset, args)\n",
    "elif args.model == 'Multi_our_VAE':\n",
    "    model = Multi_our_VAE(layers, args=args).to(args.device)\n",
    "    metric_values = train_met_model(model, dataset, args)\n",
    "elif args.model == 'SimCLR_reco_model':\n",
    "    model = SimCLR_reco_model(args=args, p_dims=layers).to(args.device)\n",
    "    metric_values = train_simclr_model(model, dataset, args)\n",
    "elif args.model == 'MultiIWAE':\n",
    "    model = MultiIWAE(args=args, p_dims=layers).to(args.device)\n",
    "    metric_values = train_iw_model(model, dataset, args)"
   ]
  },
  {
   "cell_type": "code",
   "execution_count": null,
   "id": "ca68c416-cfa9-44d6-877f-e3331e01e93d",
   "metadata": {},
   "outputs": [],
   "source": [
    "args.dropout_rate = 0.75\n",
    "\n",
    "dataset = Dataset(args)\n",
    "# pdb.set_trace()\n",
    "layers = [100, 600, dataset.n_items]\n",
    "args.z_dim = layers[0]\n",
    "args.l2_coeff = 0.\n",
    "# with torch.autograd.detect_anomaly():\n",
    "if args.model == 'MultiVAE':\n",
    "    model = MultiVAE(layers, args=args).to(args.device)\n",
    "    metric_values = train_model(model, dataset, args)\n",
    "elif args.model == 'Multi_our_VAE':\n",
    "    model = Multi_our_VAE(layers, args=args).to(args.device)\n",
    "    metric_values = train_met_model(model, dataset, args)\n",
    "elif args.model == 'SimCLR_reco_model':\n",
    "    model = SimCLR_reco_model(args=args, p_dims=layers).to(args.device)\n",
    "    metric_values = train_simclr_model(model, dataset, args)"
   ]
  },
  {
   "cell_type": "code",
   "execution_count": null,
   "id": "0246c940-7ae1-441f-b9a1-2bcf8178c9da",
   "metadata": {},
   "outputs": [],
   "source": [
    "args.dropout_rate = 0.4\n",
    "\n",
    "dataset = Dataset(args)\n",
    "# pdb.set_trace()\n",
    "layers = [100, 600, dataset.n_items]\n",
    "args.z_dim = layers[0]\n",
    "args.l2_coeff = 0.\n",
    "# with torch.autograd.detect_anomaly():\n",
    "if args.model == 'MultiVAE':\n",
    "    model = MultiVAE(layers, args=args).to(args.device)\n",
    "    metric_values = train_model(model, dataset, args)\n",
    "elif args.model == 'Multi_our_VAE':\n",
    "    model = Multi_our_VAE(layers, args=args).to(args.device)\n",
    "    metric_values = train_met_model(model, dataset, args)\n",
    "elif args.model == 'SimCLR_reco_model':\n",
    "    model = SimCLR_reco_model(args=args, p_dims=layers).to(args.device)\n",
    "    metric_values = train_simclr_model(model, dataset, args)"
   ]
  },
  {
   "cell_type": "code",
   "execution_count": null,
   "id": "9959b83c-8bf1-4f21-abab-7bf5bec38f9e",
   "metadata": {},
   "outputs": [],
   "source": [
    "args.dropout_rate = 0.83\n",
    "\n",
    "dataset = Dataset(args)\n",
    "# pdb.set_trace()\n",
    "layers = [100, 600, dataset.n_items]\n",
    "args.z_dim = layers[0]\n",
    "args.l2_coeff = 0.\n",
    "# with torch.autograd.detect_anomaly():\n",
    "if args.model == 'MultiVAE':\n",
    "    model = MultiVAE(layers, args=args).to(args.device)\n",
    "    metric_values = train_model(model, dataset, args)\n",
    "elif args.model == 'Multi_our_VAE':\n",
    "    model = Multi_our_VAE(layers, args=args).to(args.device)\n",
    "    metric_values = train_met_model(model, dataset, args)\n",
    "elif args.model == 'SimCLR_reco_model':\n",
    "    model = SimCLR_reco_model(args=args, p_dims=layers).to(args.device)\n",
    "    metric_values = train_simclr_model(model, dataset, args)"
   ]
  },
  {
   "cell_type": "code",
   "execution_count": null,
   "id": "e4970748-5a04-438e-a927-6a611d7cec5a",
   "metadata": {},
   "outputs": [],
   "source": []
  }
 ],
 "metadata": {
  "kernelspec": {
   "display_name": "Python 3 (ipykernel)",
   "language": "python",
   "name": "python3"
  },
  "language_info": {
   "codemirror_mode": {
    "name": "ipython",
    "version": 3
   },
   "file_extension": ".py",
   "mimetype": "text/x-python",
   "name": "python",
   "nbconvert_exporter": "python",
   "pygments_lexer": "ipython3",
   "version": "3.8.10"
  }
 },
 "nbformat": 4,
 "nbformat_minor": 5
}
